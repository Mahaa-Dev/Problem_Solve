{
 "cells": [
  {
   "cell_type": "markdown",
   "metadata": {
    "id": "bTQ31513W3Ol"
   },
   "source": [
    "# Word count (File handling -1)"
   ]
  },
  {
   "cell_type": "code",
   "execution_count": null,
   "metadata": {
    "id": "gYpqFWoaW0o6"
   },
   "outputs": [],
   "source": [
    "file_name = input(\"Enter the file name: \")\n",
    "word_to_search = input(\"Enter the word to search for: \")\n",
    "\n",
    "try:\n",
    "    with open(file_name, 'r') as f:\n",
    "        text = f.read()\n",
    "        word_count = text.count(word_to_search)\n",
    "        print(\"The word '{}' appears {} times in the file.\".format(word_to_search, word_count))\n",
    "except:\n",
    "    print(\"Error reading the file.\")\n",
    "\n",
    "  "
   ]
  },
  {
   "cell_type": "markdown",
   "metadata": {
    "id": "TMhcyocEXneX"
   },
   "source": [
    "# Case Study - 2 (File Handling)"
   ]
  },
  {
   "cell_type": "code",
   "execution_count": 2,
   "metadata": {
    "id": "V13SuPDNW2Pn"
   },
   "outputs": [
    {
     "name": "stdout",
     "output_type": "stream",
     "text": [
      "Average salary: 52500.0\n"
     ]
    }
   ],
   "source": [
    "import csv\n",
    "\n",
    "def average_salary(file_name):\n",
    "    total_salary = 0\n",
    "    count = 0\n",
    "    try:\n",
    "        with open(file_name, 'r') as f:\n",
    "            reader = csv.reader(f)\n",
    "            next(reader) # skipping the header row\n",
    "            for row in reader:\n",
    "                total_salary += float(row[2])\n",
    "                count += 1\n",
    "            return total_salary / count\n",
    "    except:\n",
    "        print(\"Error reading the file.\")\n",
    "\n",
    "file_name = \"data.csv\"\n",
    "print(\"Average salary:\", average_salary(file_name))\n"
   ]
  },
  {
   "cell_type": "markdown",
   "metadata": {
    "id": "py9ZJ3U_X7xm"
   },
   "source": [
    "## Exception Handling -2 "
   ]
  },
  {
   "cell_type": "code",
   "execution_count": null,
   "metadata": {
    "id": "vgp9z8H8XrcV"
   },
   "outputs": [],
   "source": [
    "def sort_words_in_file(file_name):\n",
    "    try:\n",
    "        with open(file_name, 'r') as f:\n",
    "            words = f.readlines()\n",
    "            words.sort()\n",
    "    except IOError:\n",
    "        print(\"Error reading the file.\")\n",
    "        return\n",
    "    try:\n",
    "        with open(\"sorted_\"+file_name, 'w') as f:\n",
    "            for word in words:\n",
    "                f.write(word)\n",
    "    except IOError:\n",
    "        print(\"Error creating the new file.\")\n",
    "\n",
    "file_name = input(\"Enter the file name: \")\n",
    "sort_words_in_file(file_name)\n",
    "\n"
   ]
  },
  {
   "cell_type": "markdown",
   "metadata": {
    "id": "Th66DP-EYZOP"
   },
   "source": [
    "# Exception Handling -1"
   ]
  },
  {
   "cell_type": "code",
   "execution_count": null,
   "metadata": {
    "id": "JdW_QuhUYCT4"
   },
   "outputs": [],
   "source": [
    "def factorial():\n",
    "    try:\n",
    "        num = int(input(\"Enter a number: \"))\n",
    "        result = 1\n",
    "        for i in range(1,num+1):\n",
    "            result = result*i\n",
    "        return result\n",
    "    except ValueError:\n",
    "        print(\"Invalid input. Please enter a valid number\")\n",
    "        \n",
    "result = factorial()"
   ]
  }
 ],
 "metadata": {
  "colab": {
   "provenance": []
  },
  "kernelspec": {
   "display_name": "Python 3 (ipykernel)",
   "language": "python",
   "name": "python3"
  },
  "language_info": {
   "codemirror_mode": {
    "name": "ipython",
    "version": 3
   },
   "file_extension": ".py",
   "mimetype": "text/x-python",
   "name": "python",
   "nbconvert_exporter": "python",
   "pygments_lexer": "ipython3",
   "version": "3.9.6"
  }
 },
 "nbformat": 4,
 "nbformat_minor": 1
}
